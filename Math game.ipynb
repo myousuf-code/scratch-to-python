{
 "cells": [
  {
   "cell_type": "markdown",
   "metadata": {},
   "source": [
    "# Math game"
   ]
  },
  {
   "cell_type": "code",
   "execution_count": 34,
   "metadata": {},
   "outputs": [
    {
     "name": "stdout",
     "output_type": "stream",
     "text": [
      "is 77 greater than 62? answer yes/nono\n",
      "your answer is no\n",
      "tries 1\n",
      "please try again\n",
      "is 77 greater than 62? answer yes/nono\n",
      "your answer is no\n",
      "tries 2\n",
      "you are out of tries\n",
      "is 1,000 more than 2,000? answer yes/noyes\n",
      "your answer is yes\n",
      "tries 1\n",
      "please try again\n",
      "is 1,000 more than 2,000? answer yes/noyes\n",
      "your answer is yes\n",
      "tries 2\n",
      "you are out of tries\n",
      "your final score is 0\n"
     ]
    }
   ],
   "source": [
    "score = 0\n",
    "#in the for loop I gave the user 2 tries so that if the user gives the wrong answer \n",
    "#the first time he has another try to correct his answer\n",
    "for i in range(1,3): #i= 1,2\n",
    "    answer = input(\"is 77 greater than 62? answer yes/no\")\n",
    "    print(f\"your answer is {answer}\")\n",
    "    print(f\"tries {i}\")\n",
    "    if answer == \"yes\":\n",
    "        print(\"brilliant\")\n",
    "        score = score + 1\n",
    "        print(f\"your score is {score}\")\n",
    "        break\n",
    "    else:\n",
    "        if i == 1:\n",
    "            print(\"please try again\")\n",
    "        elif i == 2:\n",
    "            print(\"you are out of tries\")\n",
    "            \n",
    "for i in range(1,3): #i= 1,2\n",
    "    answer = input(\"is 1,000 more than 2,000? answer yes/no\")\n",
    "    print(f\"your answer is {answer}\")\n",
    "    print(f\"tries {i}\")\n",
    "    if answer == \"no\":\n",
    "        print(\"brilliant\")\n",
    "        score = score + 1\n",
    "        print(f\"your score is {score}\")\n",
    "        break\n",
    "    else:\n",
    "        if i == 1:\n",
    "            print(\"please try again\")\n",
    "        elif i == 2:\n",
    "            print(\"you are out of tries\")\n",
    "print(f\"your final score is {score}\")\n",
    "\n"
   ]
  },
  {
   "cell_type": "markdown",
   "metadata": {
    "collapsed": true
   },
   "source": [
    "# Math game with dictionaries and lists"
   ]
  },
  {
   "cell_type": "code",
   "execution_count": 56,
   "metadata": {},
   "outputs": [
    {
     "name": "stdout",
     "output_type": "stream",
     "text": [
      "question number is 1\n",
      "is 77 greater than 62yes\n",
      "useranswer is yes\n",
      "correct answer is yes\n",
      "question number is 2\n",
      "is 89 greater than 97no\n",
      "useranswer is no\n",
      "correct answer is no\n",
      "question number is 3\n",
      "is 1,000 = 2,000no\n",
      "useranswer is no\n",
      "correct answer is no\n",
      "your final score is 3\n"
     ]
    }
   ],
   "source": [
    "score=0\n",
    "questions=[\n",
    "           {\n",
    "            \"No\":1,\n",
    "           \"Ask\":\"is 77 greater than 62\",\n",
    "           \"Answer\":\"yes\"\n",
    "           }, \n",
    "           {\n",
    "            \"No\":2,\n",
    "            \"Ask\":\"is 89 greater than 97\",\n",
    "            \"Answer\":\"no\"\n",
    "           }, \n",
    "           {\n",
    "            \"No\":3,\n",
    "            \"Ask\": \"is 1,000 = 2,000\",\n",
    "            \"Answer\":\"no\"\n",
    "           }\n",
    "]\n",
    "for a in questions:\n",
    "    print(f\"question number is {a['No']}\")\n",
    "    useranswer=input(a[\"Ask\"])\n",
    "    print(f\"useranswer is {useranswer}\")\n",
    "    print(f\"correct answer is {a['Answer']}\")\n",
    "    if useranswer==a['Answer']:\n",
    "        score=score+1\n",
    "        \n",
    "print(f\"your final score is {score}\")\n"
   ]
  },
  {
   "cell_type": "code",
   "execution_count": null,
   "metadata": {},
   "outputs": [],
   "source": []
  }
 ],
 "metadata": {
  "kernelspec": {
   "display_name": "Python 3",
   "language": "python",
   "name": "python3"
  },
  "language_info": {
   "codemirror_mode": {
    "name": "ipython",
    "version": 3
   },
   "file_extension": ".py",
   "mimetype": "text/x-python",
   "name": "python",
   "nbconvert_exporter": "python",
   "pygments_lexer": "ipython3",
   "version": "3.7.6"
  }
 },
 "nbformat": 4,
 "nbformat_minor": 4
}
